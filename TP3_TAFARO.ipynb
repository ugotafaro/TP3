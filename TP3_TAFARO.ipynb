{
 "cells": [
  {
   "cell_type": "markdown",
   "metadata": {},
   "source": [
    "## TP3 - Neo4j"
   ]
  },
  {
   "cell_type": "markdown",
   "metadata": {},
   "source": [
    "TAFARO Ugo"
   ]
  },
  {
   "cell_type": "markdown",
   "metadata": {},
   "source": [
    "Pour lancer le TP, il faut d'abord lancer le serveur neo4j. \n",
    "Faire \"run all\" pour initialiser le notebook"
   ]
  },
  {
   "cell_type": "code",
   "execution_count": 36,
   "metadata": {},
   "outputs": [],
   "source": [
    "from neo4j import GraphDatabase"
   ]
  },
  {
   "cell_type": "markdown",
   "metadata": {},
   "source": [
    "### Exercice 1"
   ]
  },
  {
   "cell_type": "markdown",
   "metadata": {},
   "source": [
    "**Connexion à la base de données neo4j**"
   ]
  },
  {
   "cell_type": "code",
   "execution_count": 37,
   "metadata": {},
   "outputs": [],
   "source": [
    "# Database Credentials\n",
    "\n",
    "uri             = \"bolt://localhost:7687\"\n",
    "userName        = \"neo4j\"\n",
    "password        = \"universite\"\n",
    "\n",
    "# Connect to the neo4j database server\n",
    "graphDB_Driver  = GraphDatabase.driver(uri, auth=(userName, password))"
   ]
  },
  {
   "cell_type": "markdown",
   "metadata": {},
   "source": [
    "**Fonctions utiles**"
   ]
  },
  {
   "cell_type": "code",
   "execution_count": 38,
   "metadata": {},
   "outputs": [],
   "source": [
    "def run_graphdb(query):\n",
    "    \"\"\"\n",
    "    Run a query on the graph database and return the result\n",
    "    \n",
    "    \"\"\"\n",
    "    with graphDB_Driver.session() as graphDB_Session:\n",
    "        res =  graphDB_Session.run(query)\n",
    "        return list(res)\n",
    "        \n",
    "def clear_db(node=\"\"):\n",
    "    \"\"\"\n",
    "    Delete all the nodes or one node in the database\n",
    "    \"\"\"\n",
    "    if node == \"\":\n",
    "        req = f\"MATCH (n) DETACH DELETE n\"\n",
    "    else:\n",
    "        req = f\"MATCH (n:{node}) DETACH DELETE n\"\n",
    "    with graphDB_Driver.session() as graphDB_Session:\n",
    "            graphDB_Session.run(req)"
   ]
  },
  {
   "cell_type": "code",
   "execution_count": 39,
   "metadata": {},
   "outputs": [],
   "source": [
    "#Create the database\n",
    "cqlCreate = \"\"\"\n",
    "    CREATE (:Acteur {nom: \"Tom Hanks\"})\n",
    "    CREATE (:Acteur {nom: \"Julia Roberts\"})\n",
    "    CREATE (:Acteur {nom: \"Brad Pitt\"})\n",
    "\n",
    "    \n",
    "    CREATE (:Film {titre: \"Forrest Gump\", année: 1994})\n",
    "    CREATE (:Film {titre: \"Pretty Woman\", année: 1990})\n",
    "    CREATE (:Film {titre: \"Fight Club\", année: 1999})\n",
    "\n",
    "    \n",
    "    \n",
    "    CREATE (a)-[:A_JOUE_DANS]->(f)\n",
    "\n",
    "    \n",
    "    CREATE (a)-[:A_JOUE_DANS]->(f)\n",
    "    CREATE (a)-[:A_JOUE_DANS]->(f)\n",
    "    CREATE (a1)-[:AMI]->(a2)\n",
    "    CREATE (a1)-[:A_COLLABORE_AVEC]->(a2)\n",
    "\n",
    "\"\"\"\n",
    "\n"
   ]
  },
  {
   "cell_type": "markdown",
   "metadata": {},
   "source": [
    "**Récupérer tous les acteurs**"
   ]
  },
  {
   "cell_type": "code",
   "execution_count": 40,
   "metadata": {},
   "outputs": [
    {
     "name": "stdout",
     "output_type": "stream",
     "text": [
      "List of movies present in the graph  \n",
      "<Record f=<Node element_id='4:ee2b87e8-5438-4cb0-bb01-4a64a65a7411:2436' labels=frozenset({'Film'}) properties={'titre': 'Forrest Gump', 'année': 1994}>>\n",
      "<Record f=<Node element_id='4:ee2b87e8-5438-4cb0-bb01-4a64a65a7411:2437' labels=frozenset({'Film'}) properties={'titre': 'Pretty Woman', 'année': 1990}>>\n",
      "<Record f=<Node element_id='4:ee2b87e8-5438-4cb0-bb01-4a64a65a7411:2438' labels=frozenset({'Film'}) properties={'titre': 'Fight Club', 'année': 1999}>>\n"
     ]
    }
   ],
   "source": [
    "# Recup all the movies in the database\n",
    "cqlNodeQuery          = \"MATCH (f:Film) RETURN f\"\n",
    "\n",
    "clear_db(\"Film\")\n",
    "run_graphdb(cqlCreate)\n",
    "nodes = run_graphdb(cqlNodeQuery)\n",
    "print(\"List of movies present in the graph  \")\n",
    "for node in nodes:\n",
    "\n",
    "    print(node)"
   ]
  },
  {
   "cell_type": "markdown",
   "metadata": {},
   "source": [
    "**Récupérer tous les acteurs**"
   ]
  },
  {
   "cell_type": "code",
   "execution_count": 41,
   "metadata": {},
   "outputs": [
    {
     "name": "stdout",
     "output_type": "stream",
     "text": [
      "List of actors present in the graph:\n",
      "<Record a=<Node element_id='4:ee2b87e8-5438-4cb0-bb01-4a64a65a7411:2415' labels=frozenset({'Acteur'}) properties={'nom': 'Tom Hanks'}>>\n",
      "<Record a=<Node element_id='4:ee2b87e8-5438-4cb0-bb01-4a64a65a7411:2434' labels=frozenset({'Acteur'}) properties={'nom': 'Julia Roberts'}>>\n",
      "<Record a=<Node element_id='4:ee2b87e8-5438-4cb0-bb01-4a64a65a7411:2435' labels=frozenset({'Acteur'}) properties={'nom': 'Brad Pitt'}>>\n",
      "<Record a=<Node element_id='4:ee2b87e8-5438-4cb0-bb01-4a64a65a7411:2667' labels=frozenset({'Acteur'}) properties={'nom': 'Tom Hanks'}>>\n",
      "<Record a=<Node element_id='4:ee2b87e8-5438-4cb0-bb01-4a64a65a7411:2668' labels=frozenset({'Acteur'}) properties={'nom': 'Julia Roberts'}>>\n",
      "<Record a=<Node element_id='4:ee2b87e8-5438-4cb0-bb01-4a64a65a7411:2669' labels=frozenset({'Acteur'}) properties={'nom': 'Brad Pitt'}>>\n"
     ]
    }
   ],
   "source": [
    "# Retrieve all actors\n",
    "\n",
    "cqlNodeQuery = \"MATCH (a:Acteur) RETURN a\"\n",
    "nodes = run_graphdb(cqlNodeQuery)\n",
    "print(\"List of actors present in the graph:\")\n",
    "for node in nodes:\n",
    "    print(node)\n"
   ]
  },
  {
   "cell_type": "markdown",
   "metadata": {},
   "source": [
    "### Exercice 2"
   ]
  },
  {
   "cell_type": "markdown",
   "metadata": {},
   "source": [
    "**Charger le dataset**"
   ]
  },
  {
   "cell_type": "code",
   "execution_count": 42,
   "metadata": {},
   "outputs": [],
   "source": [
    "import pandas as pd\n",
    "\n",
    "df = pd.read_csv('communes-departement-region.csv')"
   ]
  },
  {
   "cell_type": "markdown",
   "metadata": {},
   "source": [
    "**On supprime les valeurs null**"
   ]
  },
  {
   "cell_type": "code",
   "execution_count": 43,
   "metadata": {},
   "outputs": [],
   "source": [
    "df.dropna(subset=['nom_region'], inplace=True)\n",
    "\n"
   ]
  },
  {
   "cell_type": "markdown",
   "metadata": {},
   "source": [
    "**Création des noeuds régions**"
   ]
  },
  {
   "cell_type": "code",
   "execution_count": 44,
   "metadata": {},
   "outputs": [],
   "source": [
    "import re\n",
    "\n",
    "clear_db(\"Region\")\n",
    "regions = df['nom_region'].unique()\n",
    "departements = df['nom_departement'].unique()\n",
    "\n",
    "for region in regions:\n",
    "    if type(region) == str:\n",
    "        region = re.sub(r\"\\'\", \"\", region) # Remove the apostrophe in the region name\n",
    "        cqlCreate = f\"CREATE (:Region {{nom: '{region}'}})\"\n",
    "        run_graphdb(cqlCreate)\n",
    "        \n",
    "            \n",
    "\n",
    "\n"
   ]
  },
  {
   "cell_type": "markdown",
   "metadata": {},
   "source": [
    "**Création noeud département**"
   ]
  },
  {
   "cell_type": "code",
   "execution_count": 45,
   "metadata": {},
   "outputs": [],
   "source": [
    "\n",
    "clear_db(\"Departement\")\n",
    "for departement in departements:\n",
    "    try: \n",
    "        if type(departement) == str:\n",
    "            region = df[df['nom_departement'] == departement]['nom_region'].values[0]\n",
    "            region = re.sub(r\"\\'\", \"\", region) # Remove the apostrophe in the departement name\n",
    "            cqlCreate = f\"CREATE (:Departement {{nom: '{departement}'}})\"\n",
    "            cqlLink = f\"MATCH (r:Region {{nom: '{region}'}}) \\\n",
    "                        MATCH (d:Departement {{nom: '{departement}'}}) \\\n",
    "                        CREATE (d)-[:EST_DANS]->(r)\"\n",
    "            \n",
    "            run_graphdb(cqlCreate)\n",
    "            run_graphdb(cqlLink)\n",
    "            \n",
    "    except Exception:\n",
    "        pass"
   ]
  },
  {
   "cell_type": "markdown",
   "metadata": {},
   "source": [
    "**Création noeud communes**"
   ]
  },
  {
   "cell_type": "code",
   "execution_count": 46,
   "metadata": {},
   "outputs": [],
   "source": [
    "clear_db('Commune')\n",
    "communes = df[\"nom_commune\"].sample(n=3000) # We take a sample of 3000 communes in the dataframe\n",
    "\n",
    "for commune in communes:\n",
    "    \n",
    "    departement = df[df['nom_commune'] == commune]['nom_departement'].values[0]\n",
    "    code_postal = df[df['nom_commune'] == commune]['code_postal'].values[0]\n",
    "    longitude = df[df['nom_commune'] == commune]['longitude'].values[0]\n",
    "    latitude = df[df['nom_commune'] == commune]['latitude'].values[0]\n",
    "    code_commune = df[df['nom_commune'] == commune]['code_commune'].values[0]\n",
    "    cqlCreate = f'CREATE (:Commune {{nom: \"{commune}\", code_postal : {code_postal}, longitude: {longitude}, latitude: {latitude}, code_commune: {code_commune}}})'\n",
    "    cqlLink = f'MATCH (d:Departement {{nom: \"{departement}\"}}) \\\n",
    "                        MATCH (c:Commune {{nom: \"{commune}\"}}) \\\n",
    "                        CREATE (d)-[:HAS_MUNICIPALITY]->(c)'\n",
    "    \n",
    "    run_graphdb(cqlCreate)\n",
    "    run_graphdb(cqlLink)\n",
    "   \n"
   ]
  }
 ],
 "metadata": {
  "kernelspec": {
   "display_name": "Python 3",
   "language": "python",
   "name": "python3"
  },
  "language_info": {
   "codemirror_mode": {
    "name": "ipython",
    "version": 3
   },
   "file_extension": ".py",
   "mimetype": "text/x-python",
   "name": "python",
   "nbconvert_exporter": "python",
   "pygments_lexer": "ipython3",
   "version": "3.12.2"
  }
 },
 "nbformat": 4,
 "nbformat_minor": 2
}
